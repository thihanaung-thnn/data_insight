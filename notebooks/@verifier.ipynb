{
 "cells": [
  {
   "cell_type": "markdown",
   "source": [
    "### Import library re for regular expression"
   ],
   "metadata": {}
  },
  {
   "cell_type": "code",
   "execution_count": 3,
   "source": [
    "import re"
   ],
   "outputs": [],
   "metadata": {}
  },
  {
   "cell_type": "markdown",
   "source": [
    "### Write function to find the symbol \"@\""
   ],
   "metadata": {}
  },
  {
   "cell_type": "code",
   "execution_count": 11,
   "source": [
    "def verifier(word):\n",
    "    match = re.search(\"@\", word)\n",
    "    if match:\n",
    "        print(\"Verified email address\")\n",
    "    else:\n",
    "        print(\"Not an email address\")"
   ],
   "outputs": [],
   "metadata": {}
  },
  {
   "cell_type": "markdown",
   "source": [
    "### Testing"
   ],
   "metadata": {}
  },
  {
   "cell_type": "code",
   "execution_count": 12,
   "source": [
    "verifier(\"examplename@gmail.com\")"
   ],
   "outputs": [
    {
     "output_type": "stream",
     "name": "stdout",
     "text": [
      "Verified email address\n"
     ]
    }
   ],
   "metadata": {}
  },
  {
   "cell_type": "code",
   "execution_count": 14,
   "source": [
    "verifier(\"examplename#gmail.com\")"
   ],
   "outputs": [
    {
     "output_type": "stream",
     "name": "stdout",
     "text": [
      "Not an email address\n"
     ]
    }
   ],
   "metadata": {}
  }
 ],
 "metadata": {
  "orig_nbformat": 4,
  "language_info": {
   "name": "python",
   "version": "3.9.6",
   "mimetype": "text/x-python",
   "codemirror_mode": {
    "name": "ipython",
    "version": 3
   },
   "pygments_lexer": "ipython3",
   "nbconvert_exporter": "python",
   "file_extension": ".py"
  },
  "kernelspec": {
   "name": "python3",
   "display_name": "Python 3.9.6 64-bit ('data_insight': conda)"
  },
  "interpreter": {
   "hash": "6998f2c8e0b2d4e083073bb9649a615a2fd972b0433bc695267b3e8f6a853c8d"
  }
 },
 "nbformat": 4,
 "nbformat_minor": 2
}