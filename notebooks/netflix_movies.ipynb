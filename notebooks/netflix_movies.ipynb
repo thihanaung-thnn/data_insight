{
 "cells": [
  {
   "cell_type": "markdown",
   "id": "e204a495",
   "metadata": {},
   "source": [
    "# Investigating Netflix Movies and Guest Stars in The Office\n",
    "\n",
    "The original dataset is from [Kaggle]('https://www.kaggle.com/nehaprabhavalkar/the-office-dataset'). At the website, it is said that the dataset is an American Mockumentary sitcom TV series that depicts the everyday lives of office employees in the Scranton, Pennsylvania, branch of the fictional Dunder Mifflin Paper Company and  it contains 12 columns and 188 rows scrapped from IMDb. \n",
    "\n",
    "Ok, let's explore the dataset. \n",
    "\n",
    "### First import required libraries and dataset"
   ]
  },
  {
   "cell_type": "code",
   "execution_count": 1,
   "id": "4ec25ddb",
   "metadata": {},
   "outputs": [],
   "source": [
    "import numpy as np\n",
    "import pandas as pd\n",
    "import matplotlib.pyplot as plt\n",
    "import seaborn as sns\n",
    "%matplotlib inline"
   ]
  },
  {
   "cell_type": "code",
   "execution_count": 2,
   "id": "228d62f7",
   "metadata": {},
   "outputs": [],
   "source": [
    "df = pd.read_csv('datasets/the_office_series.csv')"
   ]
  },
  {
   "cell_type": "markdown",
   "id": "cc10c296",
   "metadata": {},
   "source": [
    "### Glimpse the dataset"
   ]
  },
  {
   "cell_type": "code",
   "execution_count": 3,
   "id": "0b9cbccf",
   "metadata": {},
   "outputs": [
    {
     "data": {
      "text/html": [
       "<div>\n",
       "<style scoped>\n",
       "    .dataframe tbody tr th:only-of-type {\n",
       "        vertical-align: middle;\n",
       "    }\n",
       "\n",
       "    .dataframe tbody tr th {\n",
       "        vertical-align: top;\n",
       "    }\n",
       "\n",
       "    .dataframe thead th {\n",
       "        text-align: right;\n",
       "    }\n",
       "</style>\n",
       "<table border=\"1\" class=\"dataframe\">\n",
       "  <thead>\n",
       "    <tr style=\"text-align: right;\">\n",
       "      <th></th>\n",
       "      <th>Unnamed: 0</th>\n",
       "      <th>Season</th>\n",
       "      <th>EpisodeTitle</th>\n",
       "      <th>About</th>\n",
       "      <th>Ratings</th>\n",
       "      <th>Votes</th>\n",
       "      <th>Viewership</th>\n",
       "      <th>Duration</th>\n",
       "      <th>Date</th>\n",
       "      <th>GuestStars</th>\n",
       "      <th>Director</th>\n",
       "      <th>Writers</th>\n",
       "    </tr>\n",
       "  </thead>\n",
       "  <tbody>\n",
       "    <tr>\n",
       "      <th>0</th>\n",
       "      <td>0</td>\n",
       "      <td>1</td>\n",
       "      <td>Pilot</td>\n",
       "      <td>The premiere episode introduces the boss and s...</td>\n",
       "      <td>7.5</td>\n",
       "      <td>4936</td>\n",
       "      <td>11.2</td>\n",
       "      <td>23</td>\n",
       "      <td>24 March 2005</td>\n",
       "      <td>NaN</td>\n",
       "      <td>Ken Kwapis</td>\n",
       "      <td>Ricky Gervais |Stephen Merchant and Greg Daniels</td>\n",
       "    </tr>\n",
       "    <tr>\n",
       "      <th>1</th>\n",
       "      <td>1</td>\n",
       "      <td>1</td>\n",
       "      <td>Diversity Day</td>\n",
       "      <td>Michael's off color remark puts a sensitivity ...</td>\n",
       "      <td>8.3</td>\n",
       "      <td>4801</td>\n",
       "      <td>6.0</td>\n",
       "      <td>23</td>\n",
       "      <td>29 March 2005</td>\n",
       "      <td>NaN</td>\n",
       "      <td>Ken Kwapis</td>\n",
       "      <td>B. J. Novak</td>\n",
       "    </tr>\n",
       "    <tr>\n",
       "      <th>2</th>\n",
       "      <td>2</td>\n",
       "      <td>1</td>\n",
       "      <td>Health Care</td>\n",
       "      <td>Michael leaves Dwight in charge of picking the...</td>\n",
       "      <td>7.8</td>\n",
       "      <td>4024</td>\n",
       "      <td>5.8</td>\n",
       "      <td>22</td>\n",
       "      <td>5 April 2005</td>\n",
       "      <td>NaN</td>\n",
       "      <td>Ken Whittingham</td>\n",
       "      <td>Paul Lieberstein</td>\n",
       "    </tr>\n",
       "  </tbody>\n",
       "</table>\n",
       "</div>"
      ],
      "text/plain": [
       "   Unnamed: 0  Season   EpisodeTitle  \\\n",
       "0           0       1          Pilot   \n",
       "1           1       1  Diversity Day   \n",
       "2           2       1    Health Care   \n",
       "\n",
       "                                               About  Ratings  Votes  \\\n",
       "0  The premiere episode introduces the boss and s...      7.5   4936   \n",
       "1  Michael's off color remark puts a sensitivity ...      8.3   4801   \n",
       "2  Michael leaves Dwight in charge of picking the...      7.8   4024   \n",
       "\n",
       "   Viewership  Duration            Date GuestStars         Director  \\\n",
       "0        11.2        23   24 March 2005        NaN       Ken Kwapis   \n",
       "1         6.0        23   29 March 2005        NaN       Ken Kwapis   \n",
       "2         5.8        22    5 April 2005        NaN  Ken Whittingham   \n",
       "\n",
       "                                            Writers  \n",
       "0  Ricky Gervais |Stephen Merchant and Greg Daniels  \n",
       "1                                       B. J. Novak  \n",
       "2                                  Paul Lieberstein  "
      ]
     },
     "execution_count": 3,
     "metadata": {},
     "output_type": "execute_result"
    }
   ],
   "source": [
    "df.head(3)"
   ]
  },
  {
   "cell_type": "code",
   "execution_count": 4,
   "id": "2a317971",
   "metadata": {
    "scrolled": true
   },
   "outputs": [
    {
     "name": "stdout",
     "output_type": "stream",
     "text": [
      "<class 'pandas.core.frame.DataFrame'>\n",
      "RangeIndex: 188 entries, 0 to 187\n",
      "Data columns (total 12 columns):\n",
      " #   Column        Non-Null Count  Dtype  \n",
      "---  ------        --------------  -----  \n",
      " 0   Unnamed: 0    188 non-null    int64  \n",
      " 1   Season        188 non-null    int64  \n",
      " 2   EpisodeTitle  188 non-null    object \n",
      " 3   About         188 non-null    object \n",
      " 4   Ratings       188 non-null    float64\n",
      " 5   Votes         188 non-null    int64  \n",
      " 6   Viewership    188 non-null    float64\n",
      " 7   Duration      188 non-null    int64  \n",
      " 8   Date          188 non-null    object \n",
      " 9   GuestStars    29 non-null     object \n",
      " 10  Director      188 non-null    object \n",
      " 11  Writers       188 non-null    object \n",
      "dtypes: float64(2), int64(4), object(6)\n",
      "memory usage: 17.8+ KB\n"
     ]
    }
   ],
   "source": [
    "df.info()"
   ]
  },
  {
   "cell_type": "markdown",
   "id": "29e03331",
   "metadata": {},
   "source": [
    "Only the `GuestStars` column has missing values and `Date` should be date type. \n",
    "First, look at the shape of data. "
   ]
  },
  {
   "cell_type": "code",
   "execution_count": 5,
   "id": "d745fc5c",
   "metadata": {},
   "outputs": [
    {
     "data": {
      "image/png": "[encoded data removed]",
      "text/plain": [
       "<Figure size 864x576 with 6 Axes>"
      ]
     },
     "metadata": {
      "needs_background": "light"
     },
     "output_type": "display_data"
    }
   ],
   "source": [
    "df.hist(grid = False,\n",
    "        color = 'royalblue',\n",
    "        figsize=(12,8));"
   ]
  },
  {
   "cell_type": "markdown",
   "id": "399e7fe3",
   "metadata": {},
   "source": [
    "`Ratings` follows the Normal distribution, `Duration` and `Votes` have right skew. Data seems to be in correct ranges. "
   ]
  },
  {
   "cell_type": "code",
   "execution_count": 6,
   "id": "13bcac87",
   "metadata": {},
   "outputs": [
    {
     "data": {
      "text/plain": [
       "Index(['Unnamed: 0', 'Season', 'EpisodeTitle', 'About', 'Ratings', 'Votes',\n",
       "       'Viewership', 'Duration', 'Date', 'GuestStars', 'Director', 'Writers'],\n",
       "      dtype='object')"
      ]
     },
     "execution_count": 6,
     "metadata": {},
     "output_type": "execute_result"
    }
   ],
   "source": [
    "df.columns"
   ]
  },
  {
   "cell_type": "code",
   "execution_count": 7,
   "id": "f98a8b34",
   "metadata": {},
   "outputs": [],
   "source": [
    "# change the name of first column to 'episode_number'\n",
    "df = df.rename(columns={'Unnamed: 0':'episode_number'})\n",
    "\n",
    "# change all the column names to lower\n",
    "df = df.rename(columns = str.lower)\n",
    "\n",
    "# change the type of date column \n",
    "df['date'] = pd.to_datetime(df['date'])\n",
    "\n",
    "# change the type of season column to category\n",
    "df['season'] = df['season'].astype('category')"
   ]
  },
  {
   "cell_type": "code",
   "execution_count": 8,
   "id": "e2d24855",
   "metadata": {},
   "outputs": [
    {
     "data": {
      "text/html": [
       "<div>\n",
       "<style scoped>\n",
       "    .dataframe tbody tr th:only-of-type {\n",
       "        vertical-align: middle;\n",
       "    }\n",
       "\n",
       "    .dataframe tbody tr th {\n",
       "        vertical-align: top;\n",
       "    }\n",
       "\n",
       "    .dataframe thead th {\n",
       "        text-align: right;\n",
       "    }\n",
       "</style>\n",
       "<table border=\"1\" class=\"dataframe\">\n",
       "  <thead>\n",
       "    <tr style=\"text-align: right;\">\n",
       "      <th></th>\n",
       "      <th>count</th>\n",
       "      <th>mean</th>\n",
       "      <th>std</th>\n",
       "      <th>min</th>\n",
       "      <th>25%</th>\n",
       "      <th>50%</th>\n",
       "      <th>75%</th>\n",
       "      <th>max</th>\n",
       "    </tr>\n",
       "  </thead>\n",
       "  <tbody>\n",
       "    <tr>\n",
       "      <th>episode_number</th>\n",
       "      <td>188.0</td>\n",
       "      <td>93.500000</td>\n",
       "      <td>54.415071</td>\n",
       "      <td>0.00</td>\n",
       "      <td>46.75</td>\n",
       "      <td>93.500</td>\n",
       "      <td>140.250</td>\n",
       "      <td>187.00</td>\n",
       "    </tr>\n",
       "    <tr>\n",
       "      <th>ratings</th>\n",
       "      <td>188.0</td>\n",
       "      <td>8.237234</td>\n",
       "      <td>0.589930</td>\n",
       "      <td>6.60</td>\n",
       "      <td>7.80</td>\n",
       "      <td>8.200</td>\n",
       "      <td>8.600</td>\n",
       "      <td>9.80</td>\n",
       "    </tr>\n",
       "    <tr>\n",
       "      <th>votes</th>\n",
       "      <td>188.0</td>\n",
       "      <td>2838.228723</td>\n",
       "      <td>1063.165290</td>\n",
       "      <td>1832.00</td>\n",
       "      <td>2187.75</td>\n",
       "      <td>2614.000</td>\n",
       "      <td>3144.250</td>\n",
       "      <td>10515.00</td>\n",
       "    </tr>\n",
       "    <tr>\n",
       "      <th>viewership</th>\n",
       "      <td>188.0</td>\n",
       "      <td>7.246330</td>\n",
       "      <td>2.066012</td>\n",
       "      <td>3.25</td>\n",
       "      <td>5.99</td>\n",
       "      <td>7.535</td>\n",
       "      <td>8.425</td>\n",
       "      <td>22.91</td>\n",
       "    </tr>\n",
       "    <tr>\n",
       "      <th>duration</th>\n",
       "      <td>188.0</td>\n",
       "      <td>27.053191</td>\n",
       "      <td>6.937254</td>\n",
       "      <td>19.00</td>\n",
       "      <td>22.00</td>\n",
       "      <td>23.000</td>\n",
       "      <td>30.000</td>\n",
       "      <td>60.00</td>\n",
       "    </tr>\n",
       "  </tbody>\n",
       "</table>\n",
       "</div>"
      ],
      "text/plain": [
       "                count         mean          std      min      25%       50%  \\\n",
       "episode_number  188.0    93.500000    54.415071     0.00    46.75    93.500   \n",
       "ratings         188.0     8.237234     0.589930     6.60     7.80     8.200   \n",
       "votes           188.0  2838.228723  1063.165290  1832.00  2187.75  2614.000   \n",
       "viewership      188.0     7.246330     2.066012     3.25     5.99     7.535   \n",
       "duration        188.0    27.053191     6.937254    19.00    22.00    23.000   \n",
       "\n",
       "                     75%       max  \n",
       "episode_number   140.250    187.00  \n",
       "ratings            8.600      9.80  \n",
       "votes           3144.250  10515.00  \n",
       "viewership         8.425     22.91  \n",
       "duration          30.000     60.00  "
      ]
     },
     "execution_count": 8,
     "metadata": {},
     "output_type": "execute_result"
    }
   ],
   "source": [
    "df.describe().transpose()"
   ]
  },
  {
   "cell_type": "markdown",
   "id": "9c14371a",
   "metadata": {},
   "source": [
    "### For instructions from datacamp\n",
    "\n",
    "This dataset does not contains `scaled_ratings`, `has_guests` columns and so, first create the `scaled_ratings` columns. To normalize data from range 0 to 1 is \n",
    "\n",
    "> $\\frac{x_i - min(x)}{max(x) - min(x)}$\n"
   ]
  },
  {
   "cell_type": "code",
   "execution_count": 9,
   "id": "2f3be3f7",
   "metadata": {},
   "outputs": [
    {
     "data": {
      "text/plain": [
       "count    188.000000\n",
       "mean       0.511636\n",
       "std        0.184353\n",
       "min        0.000000\n",
       "25%        0.375000\n",
       "50%        0.500000\n",
       "75%        0.625000\n",
       "max        1.000000\n",
       "Name: scaled_ratings, dtype: float64"
      ]
     },
     "execution_count": 9,
     "metadata": {},
     "output_type": "execute_result"
    }
   ],
   "source": [
    "df['scaled_ratings'] = df['ratings'].apply(lambda x: (x - min(df['ratings']))/(max(df['ratings']) - min(df['ratings'])))\n",
    "df['scaled_ratings'].describe()"
   ]
  },
  {
   "cell_type": "markdown",
   "id": "54457db4",
   "metadata": {},
   "source": [
    "`has_guest` column is True/False column for whether the episode contained guest stars. "
   ]
  },
  {
   "cell_type": "code",
   "execution_count": 10,
   "id": "010c6e20",
   "metadata": {},
   "outputs": [
    {
     "data": {
      "text/html": [
       "<div>\n",
       "<style scoped>\n",
       "    .dataframe tbody tr th:only-of-type {\n",
       "        vertical-align: middle;\n",
       "    }\n",
       "\n",
       "    .dataframe tbody tr th {\n",
       "        vertical-align: top;\n",
       "    }\n",
       "\n",
       "    .dataframe thead th {\n",
       "        text-align: right;\n",
       "    }\n",
       "</style>\n",
       "<table border=\"1\" class=\"dataframe\">\n",
       "  <thead>\n",
       "    <tr style=\"text-align: right;\">\n",
       "      <th></th>\n",
       "      <th>episode_number</th>\n",
       "      <th>season</th>\n",
       "      <th>episodetitle</th>\n",
       "      <th>about</th>\n",
       "      <th>ratings</th>\n",
       "      <th>votes</th>\n",
       "      <th>viewership</th>\n",
       "      <th>duration</th>\n",
       "      <th>date</th>\n",
       "      <th>gueststars</th>\n",
       "      <th>director</th>\n",
       "      <th>writers</th>\n",
       "      <th>scaled_ratings</th>\n",
       "      <th>has_guest</th>\n",
       "    </tr>\n",
       "  </thead>\n",
       "  <tbody>\n",
       "    <tr>\n",
       "      <th>185</th>\n",
       "      <td>185</td>\n",
       "      <td>9</td>\n",
       "      <td>Livin' the Dream</td>\n",
       "      <td>Dwight becomes regional manager after Andy qui...</td>\n",
       "      <td>9.0</td>\n",
       "      <td>2831</td>\n",
       "      <td>3.51</td>\n",
       "      <td>42</td>\n",
       "      <td>2013-05-02</td>\n",
       "      <td>Michael Imperioli</td>\n",
       "      <td>Jeffrey Blitz</td>\n",
       "      <td>Niki Schwartz-Wright</td>\n",
       "      <td>0.75000</td>\n",
       "      <td>True</td>\n",
       "    </tr>\n",
       "    <tr>\n",
       "      <th>186</th>\n",
       "      <td>186</td>\n",
       "      <td>9</td>\n",
       "      <td>A.A.R.M.</td>\n",
       "      <td>Dwight prepares for a marriage proposal and hi...</td>\n",
       "      <td>9.5</td>\n",
       "      <td>3914</td>\n",
       "      <td>4.56</td>\n",
       "      <td>43</td>\n",
       "      <td>2013-05-09</td>\n",
       "      <td>NaN</td>\n",
       "      <td>David Rogers</td>\n",
       "      <td>Brent Forrester</td>\n",
       "      <td>0.90625</td>\n",
       "      <td>False</td>\n",
       "    </tr>\n",
       "    <tr>\n",
       "      <th>187</th>\n",
       "      <td>187</td>\n",
       "      <td>9</td>\n",
       "      <td>Finale</td>\n",
       "      <td>One year later, Dunder Mifflin employees past ...</td>\n",
       "      <td>9.8</td>\n",
       "      <td>10515</td>\n",
       "      <td>5.69</td>\n",
       "      <td>51</td>\n",
       "      <td>2013-05-16</td>\n",
       "      <td>Joan Cusack, Ed Begley Jr, Rachel Harris, Nanc...</td>\n",
       "      <td>Ken Kwapis</td>\n",
       "      <td>Greg Daniels</td>\n",
       "      <td>1.00000</td>\n",
       "      <td>True</td>\n",
       "    </tr>\n",
       "  </tbody>\n",
       "</table>\n",
       "</div>"
      ],
      "text/plain": [
       "     episode_number season      episodetitle  \\\n",
       "185             185      9  Livin' the Dream   \n",
       "186             186      9          A.A.R.M.   \n",
       "187             187      9            Finale   \n",
       "\n",
       "                                                 about  ratings  votes  \\\n",
       "185  Dwight becomes regional manager after Andy qui...      9.0   2831   \n",
       "186  Dwight prepares for a marriage proposal and hi...      9.5   3914   \n",
       "187  One year later, Dunder Mifflin employees past ...      9.8  10515   \n",
       "\n",
       "     viewership  duration       date  \\\n",
       "185        3.51        42 2013-05-02   \n",
       "186        4.56        43 2013-05-09   \n",
       "187        5.69        51 2013-05-16   \n",
       "\n",
       "                                            gueststars       director  \\\n",
       "185                                 Michael Imperioli   Jeffrey Blitz   \n",
       "186                                                NaN   David Rogers   \n",
       "187  Joan Cusack, Ed Begley Jr, Rachel Harris, Nanc...     Ken Kwapis   \n",
       "\n",
       "                  writers  scaled_ratings  has_guest  \n",
       "185  Niki Schwartz-Wright         0.75000       True  \n",
       "186       Brent Forrester         0.90625      False  \n",
       "187          Greg Daniels         1.00000       True  "
      ]
     },
     "execution_count": 10,
     "metadata": {},
     "output_type": "execute_result"
    }
   ],
   "source": [
    "# return False if if GuestStars column is NaN i.e there has no gueststars. \n",
    "# else return True and create a new column \n",
    "df['has_guest'] = [False if guest else True for guest in df['gueststars'].isna()]\n",
    "\n",
    "df.tail(3)"
   ]
  },
  {
   "cell_type": "code",
   "execution_count": 11,
   "id": "e0cd5f4c",
   "metadata": {},
   "outputs": [
    {
     "data": {
      "image/png": "[encoded data removed]",
      "text/plain": [
       "<Figure size 432x288 with 1 Axes>"
      ]
     },
     "metadata": {
      "needs_background": "light"
     },
     "output_type": "display_data"
    }
   ],
   "source": [
    "col = [] \n",
    "for rating in df['scaled_ratings']:\n",
    "    if rating < 0.25:\n",
    "        col.append('red')\n",
    "    elif rating < 0.5:\n",
    "        col.append('orange')\n",
    "    elif rating < 0.75:\n",
    "        col.append('lightgreen')\n",
    "    else:\n",
    "        col.append('darkgreen')\n",
    "        \n",
    "size = [250 if guest else 25 for guest in df['has_guest']]\n",
    "\n",
    "fig = plt.figure()\n",
    "plt.scatter(x = df['episode_number'], y = df['viewership'], color=col,s = size)\n",
    "plt.title('Popularity, Quality, and Guest Appearances on the Office')\n",
    "plt.xlabel('Episode Number')\n",
    "plt.ylabel('Viewership (Millions)');\n",
    "#plt.savefig('epiVsview.png', dpi = 150, bbox_inches='tight')"
   ]
  },
  {
   "cell_type": "markdown",
   "id": "5321e966",
   "metadata": {},
   "source": [
    "The most viewed episode has guest star and who is he? "
   ]
  },
  {
   "cell_type": "code",
   "execution_count": 12,
   "id": "52f1f810",
   "metadata": {},
   "outputs": [
    {
     "data": {
      "text/plain": [
       "77    Cloris Leachman, Jack Black, Jessica Alba\n",
       "Name: gueststars, dtype: object"
      ]
     },
     "execution_count": 12,
     "metadata": {},
     "output_type": "execute_result"
    }
   ],
   "source": [
    "df[df['viewership'] == max(df['viewership'])]['gueststars']"
   ]
  },
  {
   "cell_type": "code",
   "execution_count": 13,
   "id": "3e24af15",
   "metadata": {},
   "outputs": [
    {
     "data": {
      "text/html": [
       "<div>\n",
       "<style scoped>\n",
       "    .dataframe tbody tr th:only-of-type {\n",
       "        vertical-align: middle;\n",
       "    }\n",
       "\n",
       "    .dataframe tbody tr th {\n",
       "        vertical-align: top;\n",
       "    }\n",
       "\n",
       "    .dataframe thead th {\n",
       "        text-align: right;\n",
       "    }\n",
       "</style>\n",
       "<table border=\"1\" class=\"dataframe\">\n",
       "  <thead>\n",
       "    <tr style=\"text-align: right;\">\n",
       "      <th></th>\n",
       "      <th>77</th>\n",
       "    </tr>\n",
       "  </thead>\n",
       "  <tbody>\n",
       "    <tr>\n",
       "      <th>episode_number</th>\n",
       "      <td>77</td>\n",
       "    </tr>\n",
       "    <tr>\n",
       "      <th>season</th>\n",
       "      <td>5</td>\n",
       "    </tr>\n",
       "    <tr>\n",
       "      <th>episodetitle</th>\n",
       "      <td>Stress Relief</td>\n",
       "    </tr>\n",
       "    <tr>\n",
       "      <th>about</th>\n",
       "      <td>Dwight's too-realistic fire alarm gives Stanle...</td>\n",
       "    </tr>\n",
       "    <tr>\n",
       "      <th>ratings</th>\n",
       "      <td>9.7</td>\n",
       "    </tr>\n",
       "    <tr>\n",
       "      <th>votes</th>\n",
       "      <td>8170</td>\n",
       "    </tr>\n",
       "    <tr>\n",
       "      <th>viewership</th>\n",
       "      <td>22.91</td>\n",
       "    </tr>\n",
       "    <tr>\n",
       "      <th>duration</th>\n",
       "      <td>60</td>\n",
       "    </tr>\n",
       "    <tr>\n",
       "      <th>date</th>\n",
       "      <td>2009-02-01 00:00:00</td>\n",
       "    </tr>\n",
       "    <tr>\n",
       "      <th>gueststars</th>\n",
       "      <td>Cloris Leachman, Jack Black, Jessica Alba</td>\n",
       "    </tr>\n",
       "    <tr>\n",
       "      <th>director</th>\n",
       "      <td>Jeffrey Blitz</td>\n",
       "    </tr>\n",
       "    <tr>\n",
       "      <th>writers</th>\n",
       "      <td>Paul Lieberstein</td>\n",
       "    </tr>\n",
       "    <tr>\n",
       "      <th>scaled_ratings</th>\n",
       "      <td>0.96875</td>\n",
       "    </tr>\n",
       "    <tr>\n",
       "      <th>has_guest</th>\n",
       "      <td>True</td>\n",
       "    </tr>\n",
       "  </tbody>\n",
       "</table>\n",
       "</div>"
      ],
      "text/plain": [
       "                                                               77\n",
       "episode_number                                                 77\n",
       "season                                                          5\n",
       "episodetitle                                        Stress Relief\n",
       "about           Dwight's too-realistic fire alarm gives Stanle...\n",
       "ratings                                                       9.7\n",
       "votes                                                        8170\n",
       "viewership                                                  22.91\n",
       "duration                                                       60\n",
       "date                                          2009-02-01 00:00:00\n",
       "gueststars              Cloris Leachman, Jack Black, Jessica Alba\n",
       "director                                            Jeffrey Blitz\n",
       "writers                                          Paul Lieberstein\n",
       "scaled_ratings                                            0.96875\n",
       "has_guest                                                    True"
      ]
     },
     "execution_count": 13,
     "metadata": {},
     "output_type": "execute_result"
    }
   ],
   "source": [
    "df[df['viewership'] == max(df['viewership'])].transpose()"
   ]
  },
  {
   "cell_type": "markdown",
   "id": "ae3c7f86",
   "metadata": {},
   "source": [
    "It seems that viewership seems to be decrease at the last episodes. \n",
    "\n"
   ]
  },
  {
   "cell_type": "markdown",
   "id": "b27b3c1e",
   "metadata": {},
   "source": [
    "### Let's explore next. \n",
    "### How many episodes are there in each season?"
   ]
  },
  {
   "cell_type": "code",
   "execution_count": 14,
   "id": "91352982",
   "metadata": {},
   "outputs": [
    {
     "data": {
      "image/png": "[encoded data removed]",
      "text/plain": [
       "<Figure size 432x288 with 1 Axes>"
      ]
     },
     "metadata": {
      "needs_background": "light"
     },
     "output_type": "display_data"
    }
   ],
   "source": [
    "sns.countplot(x = 'season',data = df, color='darkblue')\n",
    "plt.xlabel('Season', fontsize = 15)\n",
    "plt.ylabel('Number of Episodes', fontsize=15)\n",
    "plt.title('Number of Episodes per season', fontsize = 20);\n",
    "#plt.savefig('episodeVsseason.png', dpi = 150, bbox_inches='tight')"
   ]
  },
  {
   "cell_type": "markdown",
   "id": "46e3cef9",
   "metadata": {},
   "source": [
    "There are only 6 episodes in Season 1 and 14 in Season 2. \n",
    "\n",
    "### Top 10 episodes with highest ratings"
   ]
  },
  {
   "cell_type": "code",
   "execution_count": 15,
   "id": "7e292dc3",
   "metadata": {},
   "outputs": [
    {
     "data": {
      "image/png": "[encoded data removed]",
      "text/plain": [
       "<Figure size 432x288 with 1 Axes>"
      ]
     },
     "metadata": {
      "needs_background": "light"
     },
     "output_type": "display_data"
    }
   ],
   "source": [
    "highest_rating = df.sort_values(by='ratings', ascending=False)[['episodetitle','ratings']].iloc[:10,]\n",
    "sns.barplot(x = 'episodetitle', y = 'ratings', data = highest_rating, color='royalblue')\n",
    "plt.title('Top 10 Episodes with Highest Ratings', fontsize=20)\n",
    "plt.xlabel('')\n",
    "plt.ylabel('Rating')\n",
    "plt.ylim(9,10)\n",
    "plt.xticks(rotation = 'vertical');\n",
    "#plt.savefig('top10episodes.png', dpi = 150, bbox_inches='tight')"
   ]
  },
  {
   "cell_type": "markdown",
   "id": "0570b9b2",
   "metadata": {},
   "source": [
    "### Viewership in Millions per Season"
   ]
  },
  {
   "cell_type": "code",
   "execution_count": 16,
   "id": "bf8093f5",
   "metadata": {},
   "outputs": [
    {
     "data": {
      "text/html": [
       "<div>\n",
       "<style scoped>\n",
       "    .dataframe tbody tr th:only-of-type {\n",
       "        vertical-align: middle;\n",
       "    }\n",
       "\n",
       "    .dataframe tbody tr th {\n",
       "        vertical-align: top;\n",
       "    }\n",
       "\n",
       "    .dataframe thead th {\n",
       "        text-align: right;\n",
       "    }\n",
       "</style>\n",
       "<table border=\"1\" class=\"dataframe\">\n",
       "  <thead>\n",
       "    <tr style=\"text-align: right;\">\n",
       "      <th></th>\n",
       "      <th>ratings</th>\n",
       "      <th>viewership</th>\n",
       "    </tr>\n",
       "    <tr>\n",
       "      <th>season</th>\n",
       "      <th></th>\n",
       "      <th></th>\n",
       "    </tr>\n",
       "  </thead>\n",
       "  <tbody>\n",
       "    <tr>\n",
       "      <th>1</th>\n",
       "      <td>7.966667</td>\n",
       "      <td>6.366667</td>\n",
       "    </tr>\n",
       "    <tr>\n",
       "      <th>2</th>\n",
       "      <td>8.440909</td>\n",
       "      <td>8.168182</td>\n",
       "    </tr>\n",
       "    <tr>\n",
       "      <th>3</th>\n",
       "      <td>8.586957</td>\n",
       "      <td>8.494348</td>\n",
       "    </tr>\n",
       "    <tr>\n",
       "      <th>4</th>\n",
       "      <td>8.564286</td>\n",
       "      <td>8.547857</td>\n",
       "    </tr>\n",
       "    <tr>\n",
       "      <th>5</th>\n",
       "      <td>8.488462</td>\n",
       "      <td>8.756538</td>\n",
       "    </tr>\n",
       "    <tr>\n",
       "      <th>6</th>\n",
       "      <td>8.196154</td>\n",
       "      <td>7.766154</td>\n",
       "    </tr>\n",
       "    <tr>\n",
       "      <th>7</th>\n",
       "      <td>8.308333</td>\n",
       "      <td>7.305833</td>\n",
       "    </tr>\n",
       "    <tr>\n",
       "      <th>8</th>\n",
       "      <td>7.604167</td>\n",
       "      <td>5.385417</td>\n",
       "    </tr>\n",
       "    <tr>\n",
       "      <th>9</th>\n",
       "      <td>7.913043</td>\n",
       "      <td>4.138696</td>\n",
       "    </tr>\n",
       "  </tbody>\n",
       "</table>\n",
       "</div>"
      ],
      "text/plain": [
       "         ratings  viewership\n",
       "season                      \n",
       "1       7.966667    6.366667\n",
       "2       8.440909    8.168182\n",
       "3       8.586957    8.494348\n",
       "4       8.564286    8.547857\n",
       "5       8.488462    8.756538\n",
       "6       8.196154    7.766154\n",
       "7       8.308333    7.305833\n",
       "8       7.604167    5.385417\n",
       "9       7.913043    4.138696"
      ]
     },
     "execution_count": 16,
     "metadata": {},
     "output_type": "execute_result"
    }
   ],
   "source": [
    "r_v = df.groupby('season')[['ratings','viewership']].mean()\n",
    "r_v"
   ]
  },
  {
   "cell_type": "code",
   "execution_count": 17,
   "id": "7932f8ab",
   "metadata": {},
   "outputs": [
    {
     "data": {
      "image/png": "[encoded data removed]",
      "text/plain": [
       "<Figure size 432x288 with 1 Axes>"
      ]
     },
     "metadata": {
      "needs_background": "light"
     },
     "output_type": "display_data"
    }
   ],
   "source": [
    "plt.plot(r_v.index, r_v.ratings,'b*-', label='Average rating')\n",
    "plt.plot(r_v.index, r_v.viewership,'r*--', label='Average Viewership')\n",
    "plt.legend(loc=3)\n",
    "plt.xlabel('Season')\n",
    "plt.title('Average Ratings and Viewership per Season')\n",
    "plt.ylim(3,9.5);\n",
    "#plt.savefig('r_v.png', dpi = 150, bbox_inches='tight')"
   ]
  },
  {
   "cell_type": "markdown",
   "id": "9fdbf4b7",
   "metadata": {},
   "source": [
    "Viewership seems to be decrease at the last season. "
   ]
  },
  {
   "cell_type": "markdown",
   "id": "edaa0ec0",
   "metadata": {},
   "source": [
    "### Does viewership increase if guest stars are present?"
   ]
  },
  {
   "cell_type": "code",
   "execution_count": 18,
   "id": "0a95c13d",
   "metadata": {},
   "outputs": [
    {
     "data": {
      "image/png": "[encoded data removed]",
      "text/plain": [
       "<Figure size 432x288 with 1 Axes>"
      ]
     },
     "metadata": {
      "needs_background": "light"
     },
     "output_type": "display_data"
    }
   ],
   "source": [
    "sns.boxplot(y = 'viewership', x = 'has_guest', data = df);\n",
    "#plt.savefig('guest.png', dpi = 150, bbox_inches='tight')"
   ]
  },
  {
   "cell_type": "markdown",
   "id": "e58ac372",
   "metadata": {},
   "source": [
    "There is an outlier as we have seen above in guest stars group. Even with this outler, means of the viewership seems to be equal. "
   ]
  }
 ],
 "metadata": {
  "kernelspec": {
   "display_name": "Python 3",
   "language": "python",
   "name": "python3"
  },
  "language_info": {
   "codemirror_mode": {
    "name": "ipython",
    "version": 3
   },
   "file_extension": ".py",
   "mimetype": "text/x-python",
   "name": "python",
   "nbconvert_exporter": "python",
   "pygments_lexer": "ipython3",
   "version": "3.8.5"
  }
 },
 "nbformat": 4,
 "nbformat_minor": 5
}
