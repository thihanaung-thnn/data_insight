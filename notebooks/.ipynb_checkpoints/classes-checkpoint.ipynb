{
 "cells": [
  {
   "cell_type": "markdown",
   "id": "37405919",
   "metadata": {},
   "source": [
    "# Classes \n",
    "\n",
    "In **Object-oriented Programming**, **classes** are written and based on these classes, **objects** are created. When creating objects based on these classes, each object is automatically equipped with the general behavior of the class and then, each object can be given unique characteristics as you wish. \n",
    "\n",
    "For using classes that were created by other developers, there are two important concepts; **attributes** and **methods**. Attributes are charasteristics or properties of the class; in other words, they are NOUNS. Methods are what they can do for; or functions that are belonged to that class; or in other words, they are VERBS.  \n",
    "\n",
    "For example, in the real-world, let's say you buy a car, the brand name, color, engine type, size of the cars are attributes. Driving the car or moving from one place to another is a method. \n",
    "\n",
    "### How can we create classes? \n",
    "\n",
    "Let's say, create a simple bank account class. "
   ]
  },
  {
   "cell_type": "code",
   "execution_count": 1,
   "id": "28f07cb3",
   "metadata": {},
   "outputs": [],
   "source": [
    "class Account:\n",
    "    \"\"\"A simple bank account\"\"\" \n",
    "    def __init__(self, owner, balance):\n",
    "        \"\"\"Initialize attributes to describe bank account\"\"\"\n",
    "        self.owner = owner\n",
    "        self.balance = balance"
   ]
  },
  {
   "cell_type": "markdown",
   "id": "b69ea0d2",
   "metadata": {},
   "source": [
    "The **__init__()** method is a special method of Python that runs automatically whenever we create an object from that class. Making an object from a class is called **instantiation**. In this method, we have three parameters. The 'self' parameter is required in the method definition and it must come first before the others. Every method call associated with an instance passes the self and the individual instances access to the attributes and methods of that class."
   ]
  },
  {
   "cell_type": "code",
   "execution_count": 2,
   "id": "57eb6d9f",
   "metadata": {},
   "outputs": [],
   "source": [
    "account_1 = Account('Michael', 1000)"
   ]
  },
  {
   "cell_type": "markdown",
   "id": "2060e656",
   "metadata": {},
   "source": [
    "### How can I access the attributes of that class? "
   ]
  },
  {
   "cell_type": "code",
   "execution_count": 3,
   "id": "e825da54",
   "metadata": {},
   "outputs": [
    {
     "data": {
      "text/plain": [
       "'Michael'"
      ]
     },
     "execution_count": 3,
     "metadata": {},
     "output_type": "execute_result"
    }
   ],
   "source": [
    "account_1.owner"
   ]
  },
  {
   "cell_type": "code",
   "execution_count": 4,
   "id": "cbc91a2b",
   "metadata": {},
   "outputs": [
    {
     "data": {
      "text/plain": [
       "1000"
      ]
     },
     "execution_count": 4,
     "metadata": {},
     "output_type": "execute_result"
    }
   ],
   "source": [
    "account_1.balance"
   ]
  },
  {
   "cell_type": "markdown",
   "id": "8d9528b0",
   "metadata": {},
   "source": [
    "Next, let's talk about **methods**. Methods are functions that are belonged to that class. "
   ]
  },
  {
   "cell_type": "code",
   "execution_count": 5,
   "id": "8ca04fac",
   "metadata": {},
   "outputs": [],
   "source": [
    "class Account:\n",
    "    \"\"\"A simple bank account\"\"\" \n",
    "    def __init__(self, owner, balance=0):\n",
    "        \"\"\"Initialize attributes to describe bank account\"\"\"\n",
    "        self.owner = owner\n",
    "        self.balance = balance\n",
    "        \n",
    "    def deposit(self, amount):\n",
    "        self.balance += amount\n",
    "        print(f\"Deposit Successful! \\nYour current balance is {self.balance}\")\n",
    "        \n",
    "    def withdrawl(self, amount):\n",
    "        if self.balance > amount:\n",
    "            self.balance -= amount\n",
    "            print(f\"Withdrawl Successful! \\nYour current balance : {self.balance}\")\n",
    "        else:\n",
    "            print(\"Funds Not Enough!\")"
   ]
  },
  {
   "cell_type": "markdown",
   "id": "3fda56db",
   "metadata": {},
   "source": [
    "In this example, I added two methods; deposit and withdrawal. Writing methods are the same as writing functions, but don't forget to add 'self'. So, what will the deposit do? I added the default balance to zero. When the 'deposit' method is called, it will add that amount to the balance and print the current balance. The withdrawal method will deduct the amount from the balance if the balance is more than the withdrawal amount. Else, it will print funds not enough. So, let's see action."
   ]
  },
  {
   "cell_type": "code",
   "execution_count": 6,
   "id": "1295b2de",
   "metadata": {},
   "outputs": [
    {
     "data": {
      "text/plain": [
       "'John'"
      ]
     },
     "execution_count": 6,
     "metadata": {},
     "output_type": "execute_result"
    }
   ],
   "source": [
    "# I will create second object. \n",
    "account_2 = Account('John') # I will pass only one parameter, as balance is default to zero. \n",
    "account_2.owner"
   ]
  },
  {
   "cell_type": "code",
   "execution_count": 7,
   "id": "1c282a9b",
   "metadata": {},
   "outputs": [
    {
     "data": {
      "text/plain": [
       "0"
      ]
     },
     "execution_count": 7,
     "metadata": {},
     "output_type": "execute_result"
    }
   ],
   "source": [
    "account_2.balance"
   ]
  },
  {
   "cell_type": "code",
   "execution_count": 8,
   "id": "0d739ce3",
   "metadata": {},
   "outputs": [
    {
     "name": "stdout",
     "output_type": "stream",
     "text": [
      "Funds Not Enough!\n"
     ]
    }
   ],
   "source": [
    "# The balance is 0. Let's see withdrawl method works or not.\n",
    "account_2.withdrawl(100)"
   ]
  },
  {
   "cell_type": "code",
   "execution_count": 9,
   "id": "77ea18a7",
   "metadata": {},
   "outputs": [
    {
     "name": "stdout",
     "output_type": "stream",
     "text": [
      "Deposit Successful! \n",
      "Your current balance is 1000\n"
     ]
    }
   ],
   "source": [
    "# ok it works. Let's add some money.\n",
    "account_2.deposit(1000)"
   ]
  },
  {
   "cell_type": "code",
   "execution_count": 10,
   "id": "dcfcbf83",
   "metadata": {},
   "outputs": [
    {
     "name": "stdout",
     "output_type": "stream",
     "text": [
      "Withdrawl Successful! \n",
      "Your current balance : 500\n"
     ]
    }
   ],
   "source": [
    "# add 1000 and balance is now 1000. Let's withdrwal some.\n",
    "account_2.withdrawl(500)"
   ]
  },
  {
   "cell_type": "markdown",
   "id": "95d4a361",
   "metadata": {},
   "source": [
    "That's the basics of the classes. In Python we almost always use classes. Keep in mind, basic of the classes are attributes and methods. For example, in pandas, **index, columns, dtype, shape** are attributes and **groupby(), apply(), head(), describe()** are methods. This is just the introduction of introduction of the classes. "
   ]
  }
 ],
 "metadata": {
  "kernelspec": {
   "display_name": "Python 3",
   "language": "python",
   "name": "python3"
  },
  "language_info": {
   "codemirror_mode": {
    "name": "ipython",
    "version": 3
   },
   "file_extension": ".py",
   "mimetype": "text/x-python",
   "name": "python",
   "nbconvert_exporter": "python",
   "pygments_lexer": "ipython3",
   "version": "3.8.5"
  }
 },
 "nbformat": 4,
 "nbformat_minor": 5
}
