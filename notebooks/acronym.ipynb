{
 "cells": [
  {
   "cell_type": "markdown",
   "source": [
    "### Acronym Generator"
   ],
   "metadata": {}
  },
  {
   "cell_type": "code",
   "execution_count": 4,
   "source": [
    "def acronym(letter):\n",
    "    lst = [l[0] for l in letter.split(\" \")]\n",
    "    return(f\"Acronym for '{letter}' is '{''.join(lst).upper()}'\")"
   ],
   "outputs": [],
   "metadata": {}
  },
  {
   "cell_type": "markdown",
   "source": [
    "### Testing"
   ],
   "metadata": {}
  },
  {
   "cell_type": "code",
   "execution_count": 9,
   "source": [
    "print(acronym(\"north atlantic treaty organization\"))"
   ],
   "outputs": [
    {
     "output_type": "stream",
     "name": "stdout",
     "text": [
      "Acronym for 'north atlantic treaty organization' is 'NATO'\n"
     ]
    }
   ],
   "metadata": {}
  },
  {
   "cell_type": "code",
   "execution_count": 6,
   "source": [
    "acronym(\"Machine learning\")"
   ],
   "outputs": [
    {
     "output_type": "execute_result",
     "data": {
      "text/plain": [
       "\"Acronym for 'Machine learning' is 'ML'\""
      ]
     },
     "metadata": {},
     "execution_count": 6
    }
   ],
   "metadata": {}
  }
 ],
 "metadata": {
  "orig_nbformat": 4,
  "language_info": {
   "name": "python",
   "version": "3.9.6",
   "mimetype": "text/x-python",
   "codemirror_mode": {
    "name": "ipython",
    "version": 3
   },
   "pygments_lexer": "ipython3",
   "nbconvert_exporter": "python",
   "file_extension": ".py"
  },
  "kernelspec": {
   "name": "python3",
   "display_name": "Python 3.9.6 64-bit ('data_insight': conda)"
  },
  "interpreter": {
   "hash": "6998f2c8e0b2d4e083073bb9649a615a2fd972b0433bc695267b3e8f6a853c8d"
  }
 },
 "nbformat": 4,
 "nbformat_minor": 2
}