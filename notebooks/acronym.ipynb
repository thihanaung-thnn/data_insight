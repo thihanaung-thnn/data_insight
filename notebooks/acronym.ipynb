{
 "cells": [
  {
   "cell_type": "markdown",
   "source": [
    "### Acronym Generator"
   ],
   "metadata": {}
  },
  {
   "cell_type": "code",
   "execution_count": 8,
   "source": [
    "def acronym(letter):\n",
    "    lst = letter.split(\" \")\n",
    "    if len(lst) < 3:\n",
    "        return(\"Letter should be 3 or more words.\")\n",
    "    else:\n",
    "        first_words = [i[0] for i in lst if i not in ['of','on','as']]\n",
    "        return(f\"Acronym for '{letter}' is '{''.join(first_words).upper()}'\")"
   ],
   "outputs": [],
   "metadata": {}
  },
  {
   "cell_type": "markdown",
   "source": [
    "### Testing"
   ],
   "metadata": {}
  },
  {
   "cell_type": "code",
   "execution_count": 9,
   "source": [
    "print(acronym(\"north atlantic treaty organization\"))"
   ],
   "outputs": [
    {
     "output_type": "stream",
     "name": "stdout",
     "text": [
      "Acronym for 'north atlantic treaty organization' is 'NATO'\n"
     ]
    }
   ],
   "metadata": {}
  },
  {
   "cell_type": "code",
   "execution_count": 13,
   "source": [
    "print(acronym(\"united states of america\"))"
   ],
   "outputs": [
    {
     "output_type": "stream",
     "name": "stdout",
     "text": [
      "Acronym for 'united states of america' is 'USA'\n"
     ]
    }
   ],
   "metadata": {}
  },
  {
   "cell_type": "code",
   "execution_count": 11,
   "source": [
    "print(acronym(\"machine learning\"))"
   ],
   "outputs": [
    {
     "output_type": "stream",
     "name": "stdout",
     "text": [
      "Letter should be 3 or more words.\n"
     ]
    }
   ],
   "metadata": {}
  }
 ],
 "metadata": {
  "orig_nbformat": 4,
  "language_info": {
   "name": "python",
   "version": "3.9.6",
   "mimetype": "text/x-python",
   "codemirror_mode": {
    "name": "ipython",
    "version": 3
   },
   "pygments_lexer": "ipython3",
   "nbconvert_exporter": "python",
   "file_extension": ".py"
  },
  "kernelspec": {
   "name": "python3",
   "display_name": "Python 3.9.6 64-bit ('data_insight': conda)"
  },
  "interpreter": {
   "hash": "6998f2c8e0b2d4e083073bb9649a615a2fd972b0433bc695267b3e8f6a853c8d"
  }
 },
 "nbformat": 4,
 "nbformat_minor": 2
}