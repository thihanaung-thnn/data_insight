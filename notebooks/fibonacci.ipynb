{
 "cells": [
  {
   "cell_type": "markdown",
   "source": [
    "## Fibonacci sequence\n",
    "Fibonacci sequence is sequence of numbers and each number is the sum of the two preceding ones, starting from 0 and 1. For example 5 fibonacci sequence numbers are 0,1,1,2,3 in which 0 + 1 = 1 , 1 + 1 = 2, 2 + 3 = 5, etc. \n",
    "In python, it can easily be written as follow. \n",
    "Here you can read more about <a href=https://en.wikipedia.org/wiki/Fibonacci_number>fibonacci sequnce</a>"
   ],
   "metadata": {}
  },
  {
   "cell_type": "markdown",
   "source": [
    "### Define function"
   ],
   "metadata": {}
  },
  {
   "cell_type": "code",
   "execution_count": 24,
   "source": [
    "def fibonacci(length):\n",
    "    \"\"\"Put the length that want to produce the fibonacci sequence.\n",
    "    Length must be an integer value\"\"\"\n",
    "    a, b = 0,1\n",
    "    lst = [0,1]\n",
    "    for i in range(length-2):\n",
    "        a, b = b, a+b\n",
    "        lst.append(b)\n",
    "    return(lst)"
   ],
   "outputs": [],
   "metadata": {}
  },
  {
   "cell_type": "markdown",
   "source": [
    "### Testing"
   ],
   "metadata": {}
  },
  {
   "cell_type": "code",
   "execution_count": 28,
   "source": [
    "print(fibonacci(10))\n",
    "\n"
   ],
   "outputs": [
    {
     "output_type": "stream",
     "name": "stdout",
     "text": [
      "[0, 1, 1, 2, 3, 5, 8, 13, 21, 34]\n"
     ]
    }
   ],
   "metadata": {}
  },
  {
   "cell_type": "code",
   "execution_count": 30,
   "source": [
    "print(fibonacci(30))"
   ],
   "outputs": [
    {
     "output_type": "stream",
     "name": "stdout",
     "text": [
      "[0, 1, 1, 2, 3, 5, 8, 13, 21, 34, 55, 89, 144, 233, 377, 610, 987, 1597, 2584, 4181, 6765, 10946, 17711, 28657, 46368, 75025, 121393, 196418, 317811, 514229]\n"
     ]
    }
   ],
   "metadata": {}
  },
  {
   "cell_type": "code",
   "execution_count": null,
   "source": [],
   "outputs": [],
   "metadata": {}
  }
 ],
 "metadata": {
  "orig_nbformat": 4,
  "language_info": {
   "name": "python",
   "version": "3.9.6",
   "mimetype": "text/x-python",
   "codemirror_mode": {
    "name": "ipython",
    "version": 3
   },
   "pygments_lexer": "ipython3",
   "nbconvert_exporter": "python",
   "file_extension": ".py"
  },
  "kernelspec": {
   "name": "python3",
   "display_name": "Python 3.9.6 64-bit ('data_insight': conda)"
  },
  "interpreter": {
   "hash": "6998f2c8e0b2d4e083073bb9649a615a2fd972b0433bc695267b3e8f6a853c8d"
  }
 },
 "nbformat": 4,
 "nbformat_minor": 2
}