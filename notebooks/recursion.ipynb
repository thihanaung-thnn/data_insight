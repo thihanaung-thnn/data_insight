{
 "cells": [
  {
   "cell_type": "markdown",
   "id": "e53542d2",
   "metadata": {},
   "source": [
    "# Recursion \n",
    "\n",
    "Let's imagine you are standing in a long queue waiting to buy ice-cream. How do you know the number of people before you without getting out of the queue and count?\n",
    "\n",
    "It is easy; just ask the person in front of you. This person will ask in front of him the same question until the frist one. Let's say it is asking phase. The first one will give back the answer \"There is no person in front, or zero\" to person behind, again, person behind will answer 'one' to behind, then 'two','three' till it finally reaches to you. This is answering phase. In programming, it is called **recursion**. A program is called recursive if it calls itself, thus reducing an instance of a problem to some other instance of the same problem. To be clear, recursive function is the function inside function inside function inside function, etc. The functions are the same function. \n",
    "\n",
    "I haven't clear the concept of recursion until this example from the book [Discrete Mathematics for computer science](http://discrete-math.tilda.ws/). \n",
    "\n",
    "To create a recursive function, first think about the base function, for example, from above example, base function is asking the person in front and this person will give the answer back. \n",
    "\n",
    "Let's look at this example with codes. \n",
    "Printing are just for understanding the code. The function is to count the length of the queue."
   ]
  },
  {
   "cell_type": "code",
   "execution_count": 1,
   "id": "3a9a983a",
   "metadata": {},
   "outputs": [
    {
     "name": "stdout",
     "output_type": "stream",
     "text": [
      "Asking the person in front : ['e', 'd', 'c', 'b', 'a']\n",
      "Asking the person in front : ['d', 'c', 'b', 'a']\n",
      "Asking the person in front : ['c', 'b', 'a']\n",
      "Asking the person in front : ['b', 'a']\n",
      "Asking the person in front : ['a']\n",
      "Asking the person in front : []\n",
      "There is no one in front. I am the first person.\n",
      "Answering the person behind : ['a']\n",
      "Answering the person behind : ['b', 'a']\n",
      "Answering the person behind : ['c', 'b', 'a']\n",
      "Answering the person behind : ['d', 'c', 'b', 'a']\n",
      "Answering the person behind : ['e', 'd', 'c', 'b', 'a']\n"
     ]
    },
    {
     "data": {
      "text/plain": [
       "5"
      ]
     },
     "execution_count": 1,
     "metadata": {},
     "output_type": "execute_result"
    }
   ],
   "source": [
    "def ask_queue(lst):\n",
    "    print(f\"Asking the person in front : {lst}\")\n",
    "    if not lst: # same as len(lst) == 0, no person in the list\n",
    "        print(\"There is no one in front. I am the first person.\")\n",
    "        return 0\n",
    "    else:\n",
    "        # if there are persons in front, ask again and again.\n",
    "        # by calling the function itself. \n",
    "        total = 1 + ask_queue(lst[1:])\n",
    "        print(f\"Answering the person behind : {lst}\")\n",
    "        # will return the total lenght of the queue\n",
    "        return total\n",
    "\n",
    "# let's say in the queue 'e' in the last and 'a' in the first person in the queue. \n",
    "queue = ['e','d','c','b','a']\n",
    "ask_queue(queue)"
   ]
  },
  {
   "cell_type": "code",
   "execution_count": 5,
   "id": "f5dc62f4",
   "metadata": {},
   "outputs": [
    {
     "data": {
      "text/plain": [
       "5"
      ]
     },
     "execution_count": 5,
     "metadata": {},
     "output_type": "execute_result"
    }
   ],
   "source": [
    "# in short you can write like this\n",
    "def ask_queue_short(lst):\n",
    "    return 1 + ask_queue_short(lst[1:]) if lst else 0\n",
    "\n",
    "ask_queue_short(queue)"
   ]
  },
  {
   "cell_type": "markdown",
   "id": "4ac2cc1f",
   "metadata": {},
   "source": [
    "### Tower of Hanoi Puzzle\n",
    "\n",
    "![tower_of_hanoi.png](https://upload.wikimedia.org/wikipedia/commons/thumb/0/07/Tower_of_Hanoi.jpeg/300px-Tower_of_Hanoi.jpeg)\n",
    "\n",
    "The game is simple, just move the discs from one rod to another rod. \n",
    "Rules \n",
    "- you are allowed to move only one disc at a time.\n",
    "- larger disc cannot be placed on the top of smaller one.\n",
    "\n",
    "For writing this puzzle with recursive functions, think about what is the base function. \n",
    "Name the three rods as \n",
    "- **from_rod** - it is the starting point\n",
    "- **to_rod** - it is the rod that we want to move all the disk \n",
    "- **unused_rod** - it is the remaining rod  \n",
    "\n",
    "\n",
    "Think about if there are one disc, it is simple, just move the disc from_rod to to_rod. \n",
    "If there are two discs, move the upper/samller dics to unused_rod so that the large disc can be moved to to_rod. Then, smaller disc from unused rod is moved to to_rod. It is the base function. If there is one dics remain, from_rod to to_rod. If there are more than one, move the upper/smaller disc to unused_rod then larger to to_rod then move smaller disc to to_rod. This is the basic function. \n",
    "\n",
    "Thinks about with 3 rods. \n",
    "\n",
    "\n",
    "![](https://www.stemlittleexplorers.com/wp-content/uploads/2020/06/Example-of-Hanoi-Tower-with-3-disks.jpg)\n",
    "\n",
    "Let's write in code. \n",
    "**The idea of codes is from the book, Discrete Mathematics from above link**. I added these codes as they can clearly explained the recursive function. But for me, it takes too long to configure the code."
   ]
  },
  {
   "cell_type": "code",
   "execution_count": 2,
   "id": "38232d00",
   "metadata": {},
   "outputs": [
    {
     "name": "stdout",
     "output_type": "stream",
     "text": [
      "Move disc from 1 to 3\n",
      "Move dics from 1 to 2\n",
      "Move disc from 3 to 2\n",
      "Move dics from 1 to 3\n",
      "Move disc from 2 to 1\n",
      "Move dics from 2 to 3\n",
      "Move disc from 1 to 3\n"
     ]
    }
   ],
   "source": [
    "def hanoi_tower(n, from_rod, to_rod):\n",
    "    if n == 1:\n",
    "        print(f\"Move disc from {from_rod} to {to_rod}\")\n",
    "    else:\n",
    "        # it is defined the unused rod\n",
    "        # for example, if from_rod is 1, to_rod is 2, then 3\n",
    "        # if from_rod is 2, to_rod is 3, then 1, etc \n",
    "        # it will change accordingly. \n",
    "        unused_rod = 6 - from_rod - to_rod\n",
    "        \n",
    "        # if there is more than one disc move the upper one to \n",
    "        # unused_rod, by called the function itself\n",
    "        hanoi_tower(n-1, from_rod, unused_rod)\n",
    "        \n",
    "        # it will only execute after above function execution is done. \n",
    "        print(f\"Move dics from {from_rod} to {to_rod}\")\n",
    "        \n",
    "        # then, move the smaller one to to_rod\n",
    "        hanoi_tower(n-1, unused_rod, to_rod)\n",
    "        \n",
    "# As from above picture, we will move 3 discs from rod 1 to rod 3\n",
    "hanoi_tower(3, 1, 3)"
   ]
  },
  {
   "cell_type": "markdown",
   "id": "caf35bda",
   "metadata": {},
   "source": [
    "It will be helpful to understand above function by executing in debuging mode in some editors, such as VS code. "
   ]
  },
  {
   "cell_type": "code",
   "execution_count": 3,
   "id": "b7eaf936",
   "metadata": {},
   "outputs": [
    {
     "name": "stdout",
     "output_type": "stream",
     "text": [
      "Move disc from 1 to 2\n",
      "Move dics from 1 to 3\n",
      "Move disc from 2 to 3\n",
      "Move dics from 1 to 2\n",
      "Move disc from 3 to 1\n",
      "Move dics from 3 to 2\n",
      "Move disc from 1 to 2\n",
      "Move dics from 1 to 3\n",
      "Move disc from 2 to 3\n",
      "Move dics from 2 to 1\n",
      "Move disc from 3 to 1\n",
      "Move dics from 2 to 3\n",
      "Move disc from 1 to 2\n",
      "Move dics from 1 to 3\n",
      "Move disc from 2 to 3\n"
     ]
    }
   ],
   "source": [
    "# Let's say, move 4 discs from rod 1 to rod 3\n",
    "hanoi_tower(4, 1, 3)"
   ]
  },
  {
   "cell_type": "markdown",
   "id": "adb0a978",
   "metadata": {},
   "source": [
    "It works. 'n' can be whatever you want. This is the power of recursion, just write few lines of code. \n",
    "I think it will be helpful for you to understand the concept of recursion. "
   ]
  }
 ],
 "metadata": {
  "kernelspec": {
   "display_name": "Python 3",
   "language": "python",
   "name": "python3"
  },
  "language_info": {
   "codemirror_mode": {
    "name": "ipython",
    "version": 3
   },
   "file_extension": ".py",
   "mimetype": "text/x-python",
   "name": "python",
   "nbconvert_exporter": "python",
   "pygments_lexer": "ipython3",
   "version": "3.8.5"
  }
 },
 "nbformat": 4,
 "nbformat_minor": 5
}
