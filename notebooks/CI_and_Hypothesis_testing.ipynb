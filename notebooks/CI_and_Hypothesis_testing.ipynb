{
  "nbformat": 4,
  "nbformat_minor": 0,
  "metadata": {
    "colab": {
      "name": "CI_and_Hypothesis_testing.ipynb",
      "provenance": [],
      "collapsed_sections": [
        "iJfiDIBSwVVD",
        "TMgpa-z7nWM1",
        "0VY2Spod3BsI",
        "lZePlR1L9cAG",
        "1HWtQCUBA34C",
        "VGz2mzzPFc8V",
        "bflrSoIUKDFv"
      ],
      "authorship_tag": "ABX9TyPRGajDxVeTwssWLa6LNLWL",
      "include_colab_link": true
    },
    "kernelspec": {
      "name": "python3",
      "display_name": "Python 3"
    },
    "language_info": {
      "name": "python"
    }
  },
  "cells": [
    {
      "cell_type": "markdown",
      "metadata": {
        "id": "view-in-github",
        "colab_type": "text"
      },
      "source": [
        "<a href=\"https://colab.research.google.com/github/thihanaung-thnn/data_insight/blob/main/notebooks/CI_and_Hypothesis_testing.ipynb\" target=\"_parent\"><img src=\"https://colab.research.google.com/assets/colab-badge.svg\" alt=\"Open In Colab\"/></a>"
      ]
    },
    {
      "cell_type": "code",
      "metadata": {
        "id": "f7BIrJeym9YM"
      },
      "source": [
        "import numpy as np\n",
        "import pandas as pd\n",
        "import scipy.stats as st\n",
        "import matplotlib.pyplot as plt\n",
        "%matplotlib inline\n",
        "import matplotlib as mpl \n",
        "plt.style.use('fivethirtyeight')\n",
        "mpl.rcParams['font.family'] = 'monospace'\n",
        "mpl.rcParams['axes.spines.top'] = False\n",
        "mpl.rcParams['axes.spines.right'] = False\n",
        "mpl.rcParams['ytick.labelleft'] = False"
      ],
      "execution_count": null,
      "outputs": []
    },
    {
      "cell_type": "markdown",
      "metadata": {
        "id": "iJfiDIBSwVVD"
      },
      "source": [
        "# Confidence Intervals"
      ]
    },
    {
      "cell_type": "markdown",
      "metadata": {
        "id": "FBIpIRJ6wZQq"
      },
      "source": [
        "95% confidence interval means that we are 95% confident the true population mean falls within this interval. "
      ]
    },
    {
      "cell_type": "markdown",
      "metadata": {
        "id": "TMgpa-z7nWM1"
      },
      "source": [
        "### Population variance known, z-score"
      ]
    },
    {
      "cell_type": "markdown",
      "metadata": {
        "id": "-dqcDXyYndGD"
      },
      "source": [
        "> $\\bar x \\pm z_{\\alpha/2} \\frac{σ}{\\sqrt n}$  \n",
        "\n",
        "$\\bar x$ = sample mean  \n",
        "σ = population standard deviation  \n",
        "n = number of samples  \n",
        "$\\frac{σ}{\\sqrt n}$ = standard error   \n",
        "$\\alpha$ = 1 - confidence level  \n"
      ]
    },
    {
      "cell_type": "code",
      "metadata": {
        "colab": {
          "base_uri": "https://localhost:8080/"
        },
        "id": "r8SlVAejplQy",
        "outputId": "aec8f07f-e0d3-4406-bde1-f97283c17370"
      },
      "source": [
        "data = np.loadtxt('test.csv')\n",
        "def ci_known(alpha):    \n",
        "    sample_mean = np.mean(data)\n",
        "    population_std = 15000\n",
        "    n = len(data)\n",
        "    standard_error = population_std/np.sqrt(n)\n",
        "    alpha = alpha\n",
        "    z = st.norm.ppf(1-alpha/2)\n",
        "    ui = sample_mean + z*standard_error\n",
        "    li = sample_mean - z*standard_error\n",
        "    return li, ui\n",
        "\n",
        "ci_known(0.05)"
      ],
      "execution_count": null,
      "outputs": [
        {
          "output_type": "execute_result",
          "data": {
            "text/plain": [
              "(94832.7842355152, 105567.94909781814)"
            ]
          },
          "metadata": {},
          "execution_count": 78
        }
      ]
    },
    {
      "cell_type": "code",
      "metadata": {
        "colab": {
          "base_uri": "https://localhost:8080/"
        },
        "id": "WkVlX6AxsO-U",
        "outputId": "bbf00bc3-e0b3-49cb-9f8e-6b7c29afe292"
      },
      "source": [
        "ci_known(0.01)"
      ],
      "execution_count": null,
      "outputs": [
        {
          "output_type": "execute_result",
          "data": {
            "text/plain": [
              "(93146.1675974839, 107254.56573584944)"
            ]
          },
          "metadata": {},
          "execution_count": 79
        }
      ]
    },
    {
      "cell_type": "code",
      "metadata": {
        "colab": {
          "base_uri": "https://localhost:8080/",
          "height": 341
        },
        "id": "9BMiOildtbO_",
        "outputId": "2e53529f-defd-4476-c053-325c79b9082f"
      },
      "source": [
        "sample_mean = np.mean(data)\n",
        "plt.figure(figsize=(12,4))\n",
        "plt.subplot(121)\n",
        "plt.hist(data, rwidth=0.9, color='lightblue')\n",
        "plt.axvspan(ci_known(0.05)[0], ci_known(0.05)[1], alpha=0.5, color='red')\n",
        "plt.axvline(sample_mean, color='blue', linestyle='--', label='sample mean')\n",
        "plt.legend()\n",
        "plt.title('95% Confidence interval')\n",
        "plt.xticks(rotation=70)\n",
        "\n",
        "plt.subplot(122)\n",
        "plt.hist(data, rwidth=0.9, color='lightblue')\n",
        "plt.axvspan(ci_known(0.01)[0], ci_known(0.01)[1], alpha=0.8, color='red')\n",
        "plt.axvline(sample_mean, color='blue', linestyle='--', label='mean')\n",
        "plt.title('99% Confidence interval')\n",
        "plt.xticks(rotation=70);"
      ],
      "execution_count": null,
      "outputs": [
        {
          "output_type": "display_data",
          "data": {
            "image/png": "[encoded data removed]",
            "text/plain": [
              "<Figure size 864x288 with 2 Axes>"
            ]
          },
          "metadata": {}
        }
      ]
    },
    {
      "cell_type": "markdown",
      "metadata": {
        "id": "0VY2Spod3BsI"
      },
      "source": [
        "### Population variance unknown, t-score"
      ]
    },
    {
      "cell_type": "markdown",
      "metadata": {
        "id": "Q-c4awYA3fn4"
      },
      "source": [
        "> $\\bar x \\pm t_{n-1, \\alpha/2} \\frac{s}{\\sqrt n}$  \n",
        "\n",
        "$\\bar x$ = sample mean  \n",
        "$t_{n-1, \\alpha / 2}$ = t-statistics  \n",
        "s = sample standard deviation  \n",
        "n = sample size  "
      ]
    },
    {
      "cell_type": "code",
      "metadata": {
        "colab": {
          "base_uri": "https://localhost:8080/"
        },
        "id": "U5d0r8cXumhy",
        "outputId": "086c441b-c7e0-47ba-c2cf-63f937021f44"
      },
      "source": [
        "# data = np.array([78000,90000,75000,117000,105000,96000,89500,102300,80000])\n",
        "data = np.array([102.86, 130.41, 133.44, 100.08, 139.62, 146.78, 162.24, 133.51,\n",
        "       105.78,  70.95, 108.16, 114.92, 153.79,  90.63])\n",
        "\n",
        "\n",
        "def ci_unknown(alpha):\n",
        "    \n",
        "    sample_mean = np.mean(data)\n",
        "    n = len(data) \n",
        "    dof = n - 1\n",
        "    s = np.std(data, ddof=1)\n",
        "    se = s/np.sqrt(n)\n",
        "    alpha = alpha\n",
        "    t = st.t.ppf((1-alpha/2), dof)\n",
        "    ui = sample_mean + t*se\n",
        "    li = sample_mean - t*se\n",
        "    return li.round(2), ui.round(2)\n",
        "\n",
        "ci_unknown(0.05)"
      ],
      "execution_count": null,
      "outputs": [
        {
          "output_type": "execute_result",
          "data": {
            "text/plain": [
              "(105.91, 135.98)"
            ]
          },
          "metadata": {},
          "execution_count": 5
        }
      ]
    },
    {
      "cell_type": "code",
      "metadata": {
        "colab": {
          "base_uri": "https://localhost:8080/"
        },
        "id": "nSb9xzRx6yZi",
        "outputId": "3e74c588-2004-453c-ee38-779d1f442525"
      },
      "source": [
        "ci_unknown(0.01)"
      ],
      "execution_count": null,
      "outputs": [
        {
          "output_type": "execute_result",
          "data": {
            "text/plain": [
              "(99.98, 141.9)"
            ]
          },
          "metadata": {},
          "execution_count": 6
        }
      ]
    },
    {
      "cell_type": "code",
      "metadata": {
        "colab": {
          "base_uri": "https://localhost:8080/",
          "height": 341
        },
        "id": "5JB9uQGb7X6K",
        "outputId": "f4066883-5b05-495b-e387-9ae409c75950"
      },
      "source": [
        "sample_mean = np.mean(data)\n",
        "plt.figure(figsize=(12,4))\n",
        "plt.subplot(121)\n",
        "plt.hist(data, rwidth=0.9, color='lightblue')\n",
        "plt.axvspan(ci_unknown(0.05)[0], ci_unknown(0.05)[1], alpha=0.5, color='red')\n",
        "plt.axvline(sample_mean, color='blue', linestyle='--', label='sample mean')\n",
        "plt.legend()\n",
        "plt.title('95% Confidence interval')\n",
        "plt.xticks(rotation=70)\n",
        "\n",
        "plt.subplot(122)\n",
        "plt.hist(data, rwidth=0.9, color='lightblue')\n",
        "plt.axvspan(ci_unknown(0.01)[0], ci_unknown(0.01)[1], alpha=0.8, color='red')\n",
        "plt.axvline(sample_mean, color='blue', linestyle='--', label='mean')\n",
        "plt.title('99% Confidence interval')\n",
        "plt.xticks(rotation=70);"
      ],
      "execution_count": null,
      "outputs": [
        {
          "output_type": "display_data",
          "data": {
            "image/png": "[encoded data removed]",
            "text/plain": [
              "<Figure size 864x288 with 2 Axes>"
            ]
          },
          "metadata": {}
        }
      ]
    },
    {
      "cell_type": "markdown",
      "metadata": {
        "id": "lZePlR1L9cAG"
      },
      "source": [
        "### Two Means, Dependent Samples"
      ]
    },
    {
      "cell_type": "markdown",
      "metadata": {
        "id": "D99EpB9N9i3W"
      },
      "source": [
        "- When researching the same subject over time such as weight loss or blood samples from the same person (before and after).\n",
        "- researching families  \n",
        "\n",
        "> $\\bar d \\pm t_{n-1,\\alpha/2} \\frac{s_d}{\\sqrt n}$  \n",
        "\n",
        "$\\bar d$ = mean of difference values in sample  \n",
        "$s_d$ = standard deviation of difference values  \n",
        "\n",
        "\n",
        "\n",
        "eg- blood magnesium level before and after treatment"
      ]
    },
    {
      "cell_type": "code",
      "metadata": {
        "colab": {
          "base_uri": "https://localhost:8080/"
        },
        "id": "ZP2umKQI7j14",
        "outputId": "30ce8b45-421f-43bb-b7ca-cc8d3e6d5ab4"
      },
      "source": [
        "before = np.array([2.,1.4,1.3,1.1,1.8,1.6,1.5,0.7,0.9,1.5])\n",
        "after = np.array([1.7,1.7,1.8,1.3,1.7,1.5,1.6,1.7,1.7,2.4])\n",
        "difference = after - before\n",
        "diff_mean = np.mean(difference)\n",
        "diff_std = np.std(difference, ddof=1)\n",
        "n = len(difference)\n",
        "dof = n - 1 \n",
        "se = diff_std / np.sqrt(n)\n",
        "alpha = 0.05\n",
        "t = st.t.ppf((1-alpha/2), dof)\n",
        "ui = diff_mean - t*se\n",
        "li = diff_mean + t*se\n",
        "print(f'Lower Interval : {ui:.3f}')\n",
        "print(f'Upper Interval : {li:.3f}')"
      ],
      "execution_count": null,
      "outputs": [
        {
          "output_type": "stream",
          "name": "stdout",
          "text": [
            "Lower Interval : 0.005\n",
            "Upper Interval : 0.655\n"
          ]
        }
      ]
    },
    {
      "cell_type": "markdown",
      "metadata": {
        "id": "Ips637qMA425"
      },
      "source": [
        "1. In 95% of the cases, the true mean will fall in this interval. \n",
        "2. the whole interval is positive.\n",
        "3. the levels of Mg in the test subjects' blood is higher."
      ]
    },
    {
      "cell_type": "markdown",
      "metadata": {
        "id": "1HWtQCUBA34C"
      },
      "source": [
        "### Two Means, Independent Samples, Known Population variances"
      ]
    },
    {
      "cell_type": "markdown",
      "metadata": {
        "id": "3EHeD86tBs6M"
      },
      "source": [
        "**Considerations**  \n",
        "1. The populations are normally distributed.\n",
        "2. The population variances are known. \n",
        "3. The sample sizes are different.  \n",
        "4. Samples are big.  \n",
        "Then, `Z-statistics`   \n",
        "\n",
        "**Variance of the difference**  \n",
        "> $σ_{diff}^2 = \\frac{σ_{x}^2}{n_{x}} +  \\frac{σ_{y}^2}{n_{y}}$   \n",
        "\n",
        "**Confidence Interval**  \n",
        "> $(\\bar x - \\bar y) \\pm z_{\\alpha/2} \\sqrt{\\frac{σ_{x}^2}{n_{x}} +  \\frac{σ_{y}^2}{n_{y}}}$  \n",
        "\n",
        "eg- Two groups, engineering and management, and their respective sample size, means of english score, and standard devations and compare these two groups.\n",
        "\n",
        "**Hypothesis Testing**  \n",
        "\n",
        "> $Z = \\frac{\\bar x - \\mu_0}{\\sqrt{\\frac{σ_{x}^2}{n_{x}} +  \\frac{σ_{y}^2}{n_{y}}}}$"
      ]
    },
    {
      "cell_type": "code",
      "metadata": {
        "colab": {
          "base_uri": "https://localhost:8080/"
        },
        "id": "zfwE0sya-8Fa",
        "outputId": "b6f1d925-d9a1-42d6-fad7-e139f0f03a1c"
      },
      "source": [
        "size1, size2= 100, 70\n",
        "mean1, mean2 = 58, 65\n",
        "std1, std2 = 10, 6\n",
        "\n",
        "diff_std = np.sqrt((std1**2/size1)+(std2**2/size2))\n",
        "alpha = 0.05\n",
        "z = st.norm.ppf(1-alpha/2)\n",
        "ui = (mean1 - mean2) + z*diff_std \n",
        "li = (mean1 - mean2) - z*diff_std  \n",
        "print(f\"Lower Interval : {li:.3f}\")\n",
        "print(f\"Upper Interval : {ui:.3f}\")"
      ],
      "execution_count": null,
      "outputs": [
        {
          "output_type": "stream",
          "name": "stdout",
          "text": [
            "Lower Interval : -9.412\n",
            "Upper Interval : -4.588\n"
          ]
        }
      ]
    },
    {
      "cell_type": "markdown",
      "metadata": {
        "id": "yzaqbNUyh5dN"
      },
      "source": [
        "Null Hypothesis : difference between two groups is -4. "
      ]
    },
    {
      "cell_type": "code",
      "metadata": {
        "colab": {
          "base_uri": "https://localhost:8080/"
        },
        "id": "OiuLfcixhKuv",
        "outputId": "5ec016e8-9778-4c33-fb6e-57bcc155984c"
      },
      "source": [
        "diff_mean = mean1 - mean2 \n",
        "hypothesize_mean = -4\n",
        "Z = (diff_mean - hypothesize_mean)/diff_std\n",
        "st.norm.cdf(Z)*2"
      ],
      "execution_count": null,
      "outputs": [
        {
          "output_type": "execute_result",
          "data": {
            "text/plain": [
              "0.014772526348193598"
            ]
          },
          "metadata": {},
          "execution_count": 40
        }
      ]
    },
    {
      "cell_type": "code",
      "metadata": {
        "colab": {
          "base_uri": "https://localhost:8080/",
          "height": 282
        },
        "id": "2cpMuY6XjDab",
        "outputId": "c81e45c2-34b5-479b-f6e4-8f25a6b53328"
      },
      "source": [
        "x1 = np.linspace(mean1-15, mean1+15)\n",
        "x2 = np.linspace(mean2-9, mean2+9)\n",
        "\n",
        "plt.plot(x1, st.norm.pdf(x1, mean1, std1/np.sqrt(size1)))\n",
        "plt.plot(x2, st.norm.pdf(x2, mean2, std2/np.sqrt(size2)))\n",
        "plt.axvline(mean1, label='Group 1 mean',linestyle='--',color='blue')\n",
        "plt.axvline(mean2, label='Group 2 mean',linestyle='--',color='red')\n",
        "# plt.text(45,0.2,f'Mean diff = {mean1-mean2}')\n",
        "plt.legend();"
      ],
      "execution_count": null,
      "outputs": [
        {
          "output_type": "display_data",
          "data": {
            "image/png": "[encoded data removed]",
            "text/plain": [
              "<Figure size 432x288 with 1 Axes>"
            ]
          },
          "metadata": {}
        }
      ]
    },
    {
      "cell_type": "markdown",
      "metadata": {
        "id": "VGz2mzzPFc8V"
      },
      "source": [
        "### Two Means, Independent Intervals, Variance unknown, assumed to be equal"
      ]
    },
    {
      "cell_type": "markdown",
      "metadata": {
        "id": "GXU5waoyFvoa"
      },
      "source": [
        "eg - Prices of apple from different stores. \n",
        "\n",
        "**Pooled Variance**  \n",
        "> $s_p^2 = \\frac{(n_x - 1)s_x^2 + (n_y - 1)s_y^2}{n_x + n_y - 2}$\n",
        "\n",
        "> $(\\bar x - \\bar y) \\pm t_{n_x+n_y-2,\\alpha/2} \\sqrt{\\frac{s_p^2}{n_x} + \\frac{s_p^2}{n_y}}$"
      ]
    },
    {
      "cell_type": "code",
      "metadata": {
        "colab": {
          "base_uri": "https://localhost:8080/"
        },
        "id": "L2Z53YZuAgRw",
        "outputId": "1db5d0d1-95c5-4370-e4bf-79e7300f9556"
      },
      "source": [
        "price_town1 = np.array([3.8 , 3.76, 3.87, 3.99, 4.02, 4.25, 4.13, 3.98, 3.99, 3.62])\n",
        "price_town2 = np.array([3.02, 3.22, 3.24, 3.02, 3.06, 3.15, 3.81, 3.44])\n",
        "\n",
        "\n",
        "n1, n2 = len(price_town1), len(price_town2)\n",
        "mean1, mean2 = np.mean(price_town1), np.mean(price_town2)\n",
        "var1, var2 = np.var(price_town1, ddof=1), np.var(price_town2, ddof=1)\n",
        "dof = n1 + n2 - 2\n",
        "\n",
        "s_p = ((n1-1)*var1 + (n2-1)*var2)/dof\n",
        "alpha = 0.1\n",
        "se = np.sqrt((s_p/n1)+(s_p/n2))\n",
        "t = st.t.ppf((1-alpha/2), dof)\n",
        "\n",
        "ui = (mean1 - mean2) + t*se\n",
        "li = (mean1 - mean2) - t*se\n",
        "\n",
        "print(f\"Lower Interval : {li:.3f}\")\n",
        "print(f\"Upper Interval : {ui:.3f}\")"
      ],
      "execution_count": null,
      "outputs": [
        {
          "output_type": "stream",
          "name": "stdout",
          "text": [
            "Lower Interval : 0.510\n",
            "Upper Interval : 0.882\n"
          ]
        }
      ]
    },
    {
      "cell_type": "markdown",
      "metadata": {
        "id": "bflrSoIUKDFv"
      },
      "source": [
        "### Two Means, Independent Intervals, Variance unknown, assumed to be different"
      ]
    },
    {
      "cell_type": "markdown",
      "metadata": {
        "id": "pT2ZOCNGKJ-A"
      },
      "source": [
        "eg - apple and orange prices \n",
        "\n",
        "> $(\\bar x - \\bar y) \\pm t_{v,\\alpha/2} \\sqrt{\\frac{s_p^2}{n_x} + \\frac{s_p^2}{n_y}}$  \n",
        "\n",
        "> $v = \\frac{(\\frac{s_x^2}{n_x} + \\frac{s_y^2}{n_y})^2}{\\frac {(\\frac{s_x^2}{n_x})^2}{(n_x - 1)} + \\frac {(\\frac{s_y^2}{n_y})^2}{(n_y - 1)}}$"
      ]
    },
    {
      "cell_type": "markdown",
      "metadata": {
        "id": "cVs4FsgsMlb6"
      },
      "source": [
        "# Hypothesis Testing"
      ]
    },
    {
      "cell_type": "markdown",
      "metadata": {
        "id": "aweI_p8IMsvK"
      },
      "source": [
        "- $\\alpha$ (significance level) - the probability of rejecting the null hypothesis if it is true   \n",
        "\n",
        "**How does hypothesis testing work?**\n",
        "1. Calculate a statistics (eg. $\\bar x$)  \n",
        "2. scale it \n",
        "**Z test**  \n",
        "> $Z = \\frac{\\bar x - μ}{\\frac{s}{\\sqrt n}}$  \n",
        "\n",
        "$\\bar x$ = sample mean  \n",
        "μ = hypothesize mean  \n",
        "$s/\\sqrt n$ = standard error  \n",
        "\n",
        "3. check if $Z$ is in the rejection region. \n",
        "\n",
        "<table>\n",
        "    <tr>\n",
        "    <td></td>\n",
        "    <td>H0 is true</td>\n",
        "    <td>H0 is false</td>\n",
        "    </tr>\n",
        "    <tr>\n",
        "    <td>Accept</td>\n",
        "    <td>OK</td>\n",
        "    <td>Type II error (False Negative)</td>\n",
        "    </tr>\n",
        "    <tr>\n",
        "    <td>Reject</td>\n",
        "    <td>Type I error (False Positive)</td>\n",
        "    <td>OK</td>\n",
        "    </tr>\n",
        "</table>  \n",
        "\n",
        "\n",
        "**Type I error** - probability of rejecting a true null hypothesis (α)  \n",
        "**Type II error** - probability of failure to reject a false null hypothesis (1-β) a.k.a power of a test  \n",
        "**p_value** - smallest level of significance at which we can still reject the null hypothesis, given the ovserved sample statistics\n"
      ]
    },
    {
      "cell_type": "markdown",
      "metadata": {
        "id": "I1wJC4NWQ_w1"
      },
      "source": [
        "### Population Variance Known"
      ]
    },
    {
      "cell_type": "markdown",
      "metadata": {
        "id": "Mxi9MPoORwft"
      },
      "source": [
        "**Z test**  \n",
        "> $Z = \\frac{\\bar x - μ}{\\frac{s}{\\sqrt n}}$  \n",
        "\n",
        "$\\bar x$ = sample mean  \n",
        "μ = hypothesize mean  \n",
        "$s/\\sqrt n$ = standard error \n",
        "\n",
        "Eg. here is the sample data for salaries and someone said that mean value of populatin salary is `$`113000, population standard error is `$`15000 and it is the null hypothesis. Alternative hypothesis is mean salary is not `$`113000. "
      ]
    },
    {
      "cell_type": "code",
      "metadata": {
        "colab": {
          "base_uri": "https://localhost:8080/"
        },
        "id": "v0SvL63kJZ4I",
        "outputId": "a9df12a2-7feb-493f-c93a-9a6a682155fb"
      },
      "source": [
        "salaries = np.array([117313, 104002, 113038, 101936,  84560, 113136,  80740, 100536,\n",
        "       105052,  87201,  91986,  94868,  90745, 102848,  85927, 112276,\n",
        "       108637,  96818,  92307, 114564, 109714, 108833, 115295,  89279,\n",
        "        81720,  89344, 114426,  90410,  95118, 113382])\n",
        "\n",
        "\n",
        "sample_mean = np.mean(salaries)\n",
        "hypothesize_mean = 113000\n",
        "s = 15000\n",
        "n = len(salaries) \n",
        "se = s/np.sqrt(n)\n",
        "z = (sample_mean - hypothesize_mean)/se\n",
        "z"
      ],
      "execution_count": null,
      "outputs": [
        {
          "output_type": "execute_result",
          "data": {
            "text/plain": [
              "-4.673765269641137"
            ]
          },
          "metadata": {},
          "execution_count": 14
        }
      ]
    },
    {
      "cell_type": "code",
      "metadata": {
        "colab": {
          "base_uri": "https://localhost:8080/",
          "height": 320
        },
        "id": "BE8aN_MaTU2d",
        "outputId": "ee72ff9b-b3bb-49c9-91dd-d39d27604e78"
      },
      "source": [
        "plt.hist(salaries, rwidth=0.9, color='lightblue',density=True)\n",
        "plt.axvline(hypothesize_mean, linestyle='--',label='hypothesize mean',color='red')\n",
        "plt.axvline(sample_mean, linestyle='--',label='sample mean',color='darkblue')\n",
        "plt.legend()\n",
        "plt.xticks(rotation=70)\n",
        "\n",
        "x_axis = np.linspace(min(salaries), max(salaries))\n",
        "y = st.norm.pdf(x_axis, sample_mean,se)\n",
        "plt.plot(x_axis, y);"
      ],
      "execution_count": null,
      "outputs": [
        {
          "output_type": "display_data",
          "data": {
            "image/png": "[encoded data removed]",
            "text/plain": [
              "<Figure size 432x288 with 1 Axes>"
            ]
          },
          "metadata": {}
        }
      ]
    },
    {
      "cell_type": "markdown",
      "metadata": {
        "id": "uEIOMEpYdIeq"
      },
      "source": [
        "### Two means, Dependent Samples"
      ]
    },
    {
      "cell_type": "markdown",
      "metadata": {
        "id": "_WQjx6_pdZvp"
      },
      "source": [
        "> $T = \\frac{\\bar d - \\mu_0}{St.error}$"
      ]
    },
    {
      "cell_type": "code",
      "metadata": {
        "id": "ZIHzNN7iVPup",
        "colab": {
          "base_uri": "https://localhost:8080/"
        },
        "outputId": "30160cc7-2fea-4e72-ef54-414a2cf015a6"
      },
      "source": [
        "before = np.array([2.,1.4,1.3,1.1,1.8,1.6,1.5,0.7,0.9,1.5])\n",
        "after = np.array([1.7,1.7,1.8,1.3,1.7,1.5,1.6,1.7,1.7,2.4])\n",
        "difference = after - before\n",
        "diff_mean = np.mean(difference)\n",
        "diff_std = np.std(difference, ddof=1)\n",
        "n = len(difference)\n",
        "dof = n - 1 \n",
        "se = diff_std / np.sqrt(n)\n",
        "\n",
        "T = diff_mean / se\n",
        "1 - st.t.cdf(T, dof)"
      ],
      "execution_count": null,
      "outputs": [
        {
          "output_type": "execute_result",
          "data": {
            "text/plain": [
              "0.02369696819869893"
            ]
          },
          "metadata": {},
          "execution_count": 21
        }
      ]
    },
    {
      "cell_type": "code",
      "metadata": {
        "colab": {
          "base_uri": "https://localhost:8080/"
        },
        "id": "JMRUWyVTdrAu",
        "outputId": "e0cc937f-0354-4c20-ffce-1cde6b542b94"
      },
      "source": [
        "st.ttest_rel(before, after)[1]/2"
      ],
      "execution_count": null,
      "outputs": [
        {
          "output_type": "execute_result",
          "data": {
            "text/plain": [
              "0.02369696819869895"
            ]
          },
          "metadata": {},
          "execution_count": 30
        }
      ]
    },
    {
      "cell_type": "code",
      "metadata": {
        "colab": {
          "base_uri": "https://localhost:8080/",
          "height": 304
        },
        "id": "fUrnB5nKfhq0",
        "outputId": "9b450519-e5d0-49b5-8887-50b775e91a8c"
      },
      "source": [
        "plt.hist(difference, rwidth=0.9, color='lightblue',density=True)\n",
        "plt.axvline(0, linestyle='--',label='hypothesize mean',color='red')\n",
        "plt.axvline(diff_mean, linestyle='--',label='difference mean',color='darkblue')\n",
        "plt.legend()\n",
        "plt.xticks(rotation=70)\n",
        "\n",
        "x_axis = np.linspace(min(difference), max(difference))\n",
        "y = st.norm.pdf(x_axis, diff_mean,se)\n",
        "plt.plot(x_axis, y);"
      ],
      "execution_count": null,
      "outputs": [
        {
          "output_type": "display_data",
          "data": {
            "image/png": "[encoded data removed]",
            "text/plain": [
              "<Figure size 432x288 with 1 Axes>"
            ]
          },
          "metadata": {}
        }
      ]
    }
  ]
}